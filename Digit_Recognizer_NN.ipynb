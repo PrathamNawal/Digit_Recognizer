{
 "cells": [
  {
   "cell_type": "code",
   "execution_count": 4,
   "metadata": {},
   "outputs": [
    {
     "data": {
      "text/plain": [
       "'/Users/pratham/Desktop/ML:DL Practice'"
      ]
     },
     "execution_count": 4,
     "metadata": {},
     "output_type": "execute_result"
    }
   ],
   "source": [
    "import os\n",
    "os.chdir(\"/Users/pratham/Desktop/ML:DL Practice\")\n",
    "os.getcwd()"
   ]
  },
  {
   "cell_type": "code",
   "execution_count": 62,
   "metadata": {},
   "outputs": [],
   "source": [
    "import pandas as pd\n",
    "import numpy as np\n",
    "import matplotlib.pyplot as plt\n",
    "import pickle\n",
    "import tensorflow as tf\n",
    "from os.path import isfile, isdir\n",
    "% matplotlib inline"
   ]
  },
  {
   "cell_type": "code",
   "execution_count": 57,
   "metadata": {},
   "outputs": [],
   "source": [
    "train = pd.read_csv(\"Digit Recognizer/train.csv\")\n",
    "test = pd.read_csv(\"Digit Recognizer/test.csv\")"
   ]
  },
  {
   "cell_type": "code",
   "execution_count": 58,
   "metadata": {
    "collapsed": true
   },
   "outputs": [],
   "source": [
    "df = train.copy()\n",
    "#df = df.drop('label',axis = 1)\n",
    "#labels = train['label']"
   ]
  },
  {
   "cell_type": "code",
   "execution_count": 59,
   "metadata": {
    "scrolled": false
   },
   "outputs": [
    {
     "data": {
      "text/html": [
       "<div>\n",
       "<style>\n",
       "    .dataframe thead tr:only-child th {\n",
       "        text-align: right;\n",
       "    }\n",
       "\n",
       "    .dataframe thead th {\n",
       "        text-align: left;\n",
       "    }\n",
       "\n",
       "    .dataframe tbody tr th {\n",
       "        vertical-align: top;\n",
       "    }\n",
       "</style>\n",
       "<table border=\"1\" class=\"dataframe\">\n",
       "  <thead>\n",
       "    <tr style=\"text-align: right;\">\n",
       "      <th></th>\n",
       "      <th>label</th>\n",
       "      <th>pixel0</th>\n",
       "      <th>pixel1</th>\n",
       "      <th>pixel2</th>\n",
       "      <th>pixel3</th>\n",
       "      <th>pixel4</th>\n",
       "      <th>pixel5</th>\n",
       "      <th>pixel6</th>\n",
       "      <th>pixel7</th>\n",
       "      <th>pixel8</th>\n",
       "      <th>...</th>\n",
       "      <th>pixel774</th>\n",
       "      <th>pixel775</th>\n",
       "      <th>pixel776</th>\n",
       "      <th>pixel777</th>\n",
       "      <th>pixel778</th>\n",
       "      <th>pixel779</th>\n",
       "      <th>pixel780</th>\n",
       "      <th>pixel781</th>\n",
       "      <th>pixel782</th>\n",
       "      <th>pixel783</th>\n",
       "    </tr>\n",
       "  </thead>\n",
       "  <tbody>\n",
       "    <tr>\n",
       "      <th>0</th>\n",
       "      <td>1</td>\n",
       "      <td>0</td>\n",
       "      <td>0</td>\n",
       "      <td>0</td>\n",
       "      <td>0</td>\n",
       "      <td>0</td>\n",
       "      <td>0</td>\n",
       "      <td>0</td>\n",
       "      <td>0</td>\n",
       "      <td>0</td>\n",
       "      <td>...</td>\n",
       "      <td>0</td>\n",
       "      <td>0</td>\n",
       "      <td>0</td>\n",
       "      <td>0</td>\n",
       "      <td>0</td>\n",
       "      <td>0</td>\n",
       "      <td>0</td>\n",
       "      <td>0</td>\n",
       "      <td>0</td>\n",
       "      <td>0</td>\n",
       "    </tr>\n",
       "    <tr>\n",
       "      <th>1</th>\n",
       "      <td>0</td>\n",
       "      <td>0</td>\n",
       "      <td>0</td>\n",
       "      <td>0</td>\n",
       "      <td>0</td>\n",
       "      <td>0</td>\n",
       "      <td>0</td>\n",
       "      <td>0</td>\n",
       "      <td>0</td>\n",
       "      <td>0</td>\n",
       "      <td>...</td>\n",
       "      <td>0</td>\n",
       "      <td>0</td>\n",
       "      <td>0</td>\n",
       "      <td>0</td>\n",
       "      <td>0</td>\n",
       "      <td>0</td>\n",
       "      <td>0</td>\n",
       "      <td>0</td>\n",
       "      <td>0</td>\n",
       "      <td>0</td>\n",
       "    </tr>\n",
       "    <tr>\n",
       "      <th>2</th>\n",
       "      <td>1</td>\n",
       "      <td>0</td>\n",
       "      <td>0</td>\n",
       "      <td>0</td>\n",
       "      <td>0</td>\n",
       "      <td>0</td>\n",
       "      <td>0</td>\n",
       "      <td>0</td>\n",
       "      <td>0</td>\n",
       "      <td>0</td>\n",
       "      <td>...</td>\n",
       "      <td>0</td>\n",
       "      <td>0</td>\n",
       "      <td>0</td>\n",
       "      <td>0</td>\n",
       "      <td>0</td>\n",
       "      <td>0</td>\n",
       "      <td>0</td>\n",
       "      <td>0</td>\n",
       "      <td>0</td>\n",
       "      <td>0</td>\n",
       "    </tr>\n",
       "    <tr>\n",
       "      <th>3</th>\n",
       "      <td>4</td>\n",
       "      <td>0</td>\n",
       "      <td>0</td>\n",
       "      <td>0</td>\n",
       "      <td>0</td>\n",
       "      <td>0</td>\n",
       "      <td>0</td>\n",
       "      <td>0</td>\n",
       "      <td>0</td>\n",
       "      <td>0</td>\n",
       "      <td>...</td>\n",
       "      <td>0</td>\n",
       "      <td>0</td>\n",
       "      <td>0</td>\n",
       "      <td>0</td>\n",
       "      <td>0</td>\n",
       "      <td>0</td>\n",
       "      <td>0</td>\n",
       "      <td>0</td>\n",
       "      <td>0</td>\n",
       "      <td>0</td>\n",
       "    </tr>\n",
       "    <tr>\n",
       "      <th>4</th>\n",
       "      <td>0</td>\n",
       "      <td>0</td>\n",
       "      <td>0</td>\n",
       "      <td>0</td>\n",
       "      <td>0</td>\n",
       "      <td>0</td>\n",
       "      <td>0</td>\n",
       "      <td>0</td>\n",
       "      <td>0</td>\n",
       "      <td>0</td>\n",
       "      <td>...</td>\n",
       "      <td>0</td>\n",
       "      <td>0</td>\n",
       "      <td>0</td>\n",
       "      <td>0</td>\n",
       "      <td>0</td>\n",
       "      <td>0</td>\n",
       "      <td>0</td>\n",
       "      <td>0</td>\n",
       "      <td>0</td>\n",
       "      <td>0</td>\n",
       "    </tr>\n",
       "    <tr>\n",
       "      <th>5</th>\n",
       "      <td>0</td>\n",
       "      <td>0</td>\n",
       "      <td>0</td>\n",
       "      <td>0</td>\n",
       "      <td>0</td>\n",
       "      <td>0</td>\n",
       "      <td>0</td>\n",
       "      <td>0</td>\n",
       "      <td>0</td>\n",
       "      <td>0</td>\n",
       "      <td>...</td>\n",
       "      <td>0</td>\n",
       "      <td>0</td>\n",
       "      <td>0</td>\n",
       "      <td>0</td>\n",
       "      <td>0</td>\n",
       "      <td>0</td>\n",
       "      <td>0</td>\n",
       "      <td>0</td>\n",
       "      <td>0</td>\n",
       "      <td>0</td>\n",
       "    </tr>\n",
       "  </tbody>\n",
       "</table>\n",
       "<p>6 rows × 785 columns</p>\n",
       "</div>"
      ],
      "text/plain": [
       "   label  pixel0  pixel1  pixel2  pixel3  pixel4  pixel5  pixel6  pixel7  \\\n",
       "0      1       0       0       0       0       0       0       0       0   \n",
       "1      0       0       0       0       0       0       0       0       0   \n",
       "2      1       0       0       0       0       0       0       0       0   \n",
       "3      4       0       0       0       0       0       0       0       0   \n",
       "4      0       0       0       0       0       0       0       0       0   \n",
       "5      0       0       0       0       0       0       0       0       0   \n",
       "\n",
       "   pixel8    ...     pixel774  pixel775  pixel776  pixel777  pixel778  \\\n",
       "0       0    ...            0         0         0         0         0   \n",
       "1       0    ...            0         0         0         0         0   \n",
       "2       0    ...            0         0         0         0         0   \n",
       "3       0    ...            0         0         0         0         0   \n",
       "4       0    ...            0         0         0         0         0   \n",
       "5       0    ...            0         0         0         0         0   \n",
       "\n",
       "   pixel779  pixel780  pixel781  pixel782  pixel783  \n",
       "0         0         0         0         0         0  \n",
       "1         0         0         0         0         0  \n",
       "2         0         0         0         0         0  \n",
       "3         0         0         0         0         0  \n",
       "4         0         0         0         0         0  \n",
       "5         0         0         0         0         0  \n",
       "\n",
       "[6 rows x 785 columns]"
      ]
     },
     "execution_count": 59,
     "metadata": {},
     "output_type": "execute_result"
    }
   ],
   "source": [
    "df.head(n=6)"
   ]
  },
  {
   "cell_type": "code",
   "execution_count": 60,
   "metadata": {},
   "outputs": [
    {
     "data": {
      "text/plain": [
       "(42000, 785)"
      ]
     },
     "execution_count": 60,
     "metadata": {},
     "output_type": "execute_result"
    }
   ],
   "source": [
    "np.shape(df)"
   ]
  },
  {
   "cell_type": "code",
   "execution_count": 61,
   "metadata": {},
   "outputs": [
    {
     "data": {
      "text/plain": [
       "(28000, 784)"
      ]
     },
     "execution_count": 61,
     "metadata": {},
     "output_type": "execute_result"
    }
   ],
   "source": [
    "np.shape(test)"
   ]
  },
  {
   "cell_type": "code",
   "execution_count": 63,
   "metadata": {},
   "outputs": [
    {
     "data": {
      "text/plain": [
       "0    4132\n",
       "1    4684\n",
       "2    4177\n",
       "3    4351\n",
       "4    4072\n",
       "5    3795\n",
       "6    4137\n",
       "7    4401\n",
       "8    4063\n",
       "9    4188\n",
       "Name: label, dtype: int64"
      ]
     },
     "execution_count": 63,
     "metadata": {},
     "output_type": "execute_result"
    }
   ],
   "source": [
    "# check training data\n",
    "trainLabelCounts = train['label'].value_counts(sort = False)\n",
    "trainLabelCounts"
   ]
  },
  {
   "cell_type": "code",
   "execution_count": 64,
   "metadata": {
    "collapsed": true
   },
   "outputs": [],
   "source": [
    "# cast to numpy array\n",
    "trainData = train.values[:,1:]\n",
    "trainLabel = train.values[:,0]\n",
    "testData = test.values"
   ]
  },
  {
   "cell_type": "code",
   "execution_count": 65,
   "metadata": {
    "collapsed": true
   },
   "outputs": [],
   "source": [
    "def preprocessing(data):\n",
    "    '''\n",
    "    min-max scaling for every image\n",
    "    data: numpy array\n",
    "    output: scaled numpy array\n",
    "    '''\n",
    "    minV = 0\n",
    "    maxV = 255\n",
    "    data = (data - minV) / (maxV-minV)\n",
    "    return data\n",
    "def one_hot_encoding(data, numberOfClass):\n",
    "    from sklearn import preprocessing\n",
    "    lb = preprocessing.LabelBinarizer()\n",
    "    lb.fit(range(numberOfClass))\n",
    "    return lb.transform(data)"
   ]
  },
  {
   "cell_type": "code",
   "execution_count": 66,
   "metadata": {
    "collapsed": true
   },
   "outputs": [],
   "source": [
    "processedTrainData = preprocessing(trainData)\n",
    "processedTestData = preprocessing(testData)\n",
    "one_hot_trainLabel = one_hot_encoding(trainLabel, 10)"
   ]
  },
  {
   "cell_type": "markdown",
   "metadata": {},
   "source": [
    "# Building Neural Network with Tensorflow"
   ]
  },
  {
   "cell_type": "code",
   "execution_count": 87,
   "metadata": {
    "collapsed": true
   },
   "outputs": [],
   "source": [
    "def getInputTensor(features, numberOfClass):\n",
    "    '''\n",
    "    Create tf.placeholder for input & label\n",
    "    '''\n",
    "    inputT = tf.placeholder(dtype = tf.float32, shape = (None, features), name = 'input')\n",
    "    labelT = tf.placeholder(dtype = tf.float32, shape = (None, numberOfClass), name = 'label')\n",
    "    keep_prob = tf.placeholder(dtype = tf.float32)\n",
    "    \n",
    "    return inputT, labelT, keep_prob"
   ]
  },
  {
   "cell_type": "code",
   "execution_count": 88,
   "metadata": {
    "collapsed": true
   },
   "outputs": [],
   "source": [
    "def hiddenLayer(inputT, numberOfNodes):\n",
    "    '''\n",
    "    Create hidden layer\n",
    "    '''\n",
    "    inputSize = inputT.get_shape().as_list()[1]\n",
    "    # create weights & biases\n",
    "    weights = tf.Variable(tf.truncated_normal((inputSize, numberOfNodes)), dtype = tf.float32)\n",
    "    biases = tf.zeros((numberOfNodes), dtype = tf.float32)\n",
    "    # output of hidden nodes\n",
    "    hiddenNodes = tf.add(tf.matmul(inputT, weights), biases)\n",
    "    hiddenOutput = tf.nn.sigmoid(hiddenNodes)\n",
    "    \n",
    "    return hiddenOutput"
   ]
  },
  {
   "cell_type": "code",
   "execution_count": 89,
   "metadata": {
    "collapsed": true
   },
   "outputs": [],
   "source": [
    "def outputLayer(hiddenOutput, numberOfClass):\n",
    "    '''\n",
    "    Create output layer\n",
    "    hiddenOutput: output from hidden layer\n",
    "    numOfClass: number of classes (0~9)\n",
    "    '''\n",
    "    inputSize = hiddenOutput.get_shape().as_list()[1]\n",
    "    # create weights & biases\n",
    "    weights = tf.Variable(tf.truncated_normal((inputSize, numberOfClass)), dtype = tf.float32)\n",
    "    biases = tf.zeros((numberOfClass), dtype = tf.float32)\n",
    "    # output\n",
    "    output = tf.add(tf.matmul(hiddenOutput, weights), biases)\n",
    "    \n",
    "    return output"
   ]
  },
  {
   "cell_type": "code",
   "execution_count": 90,
   "metadata": {
    "collapsed": true
   },
   "outputs": [],
   "source": [
    "def build_nn(inputT, numberOfNodes, numberOfClass, keep_prob):\n",
    "    '''\n",
    "    build fully connected neural network\n",
    "    '''\n",
    "    # fully_connected layers\n",
    "    fc1 = hiddenLayer(inputT, numberOfNodes)\n",
    "    output = outputLayer(fc1, numberOfClass)\n",
    "    \n",
    "    return output\n"
   ]
  },
  {
   "cell_type": "markdown",
   "metadata": {},
   "source": [
    "# Hyperparameters"
   ]
  },
  {
   "cell_type": "code",
   "execution_count": 110,
   "metadata": {
    "collapsed": true
   },
   "outputs": [],
   "source": [
    "numberOfNodes = 512\n",
    "batchSize = 128\n",
    "numberOfEpoch = 50\n",
    "learningRate = 0.004\n",
    "keep_prob_rate = 1.0"
   ]
  },
  {
   "cell_type": "code",
   "execution_count": 111,
   "metadata": {},
   "outputs": [],
   "source": [
    "# Build Neural Network graph\n",
    "numberOfClass = 10\n",
    "imageSize = (28, 28)\n",
    "features = np.prod(imageSize)\n",
    "graph = tf.Graph()\n",
    "tf.reset_default_graph()\n",
    "with graph.as_default():\n",
    "    \n",
    "    # get inputs\n",
    "    inputT, labelT, keep_prob = getInputTensor(features, numberOfClass)\n",
    "    \n",
    "    # build fully-conneted neural network\n",
    "    logits = build_nn(inputT, numberOfNodes, numberOfClass, keep_prob)\n",
    "    \n",
    "    # softmax with cross entropy\n",
    "    probability = tf.nn.softmax(logits, name = 'probability')\n",
    "    \n",
    "    # Cost\n",
    "    cost = tf.reduce_mean(tf.nn.softmax_cross_entropy_with_logits(logits = logits, labels = labelT))\n",
    "    \n",
    "    # optimizer\n",
    "    optimizer = tf.train.AdamOptimizer(learning_rate = learningRate).minimize(cost)\n",
    "    \n",
    "    # accuracy\n",
    "    correctPrediction = tf.equal(tf.argmax(probability, 1),tf.argmax(labelT, 1))\n",
    "    accuracy = tf.reduce_mean(tf.cast(correctPrediction, tf.float32))"
   ]
  },
  {
   "cell_type": "code",
   "execution_count": null,
   "metadata": {
    "collapsed": true
   },
   "outputs": [],
   "source": [
    "##Training the model"
   ]
  },
  {
   "cell_type": "code",
   "execution_count": 98,
   "metadata": {
    "collapsed": true
   },
   "outputs": [],
   "source": [
    "from sklearn.model_selection import train_test_split"
   ]
  },
  {
   "cell_type": "code",
   "execution_count": 99,
   "metadata": {
    "collapsed": true
   },
   "outputs": [],
   "source": [
    "def printResult(epoch,numberOfEpoch,trainLoss,validationLoss,validationAccuracy):\n",
    "    print(\"Epoch: {}/{}\".format(epoch+1, numberOfEpoch),\n",
    "         '\\tTraining Loss: {:.3f}'.format(trainLoss),\n",
    "         '\\tValidation Loss: {:.3f}'.format(validationLoss),\n",
    "         '\\tAccuracy: {:.2f}%'.format(validationAccuracy*100))"
   ]
  },
  {
   "cell_type": "code",
   "execution_count": 112,
   "metadata": {},
   "outputs": [
    {
     "name": "stdout",
     "output_type": "stream",
     "text": [
      "('Epoch: 1/50', '\\tTraining Loss: 2.303', '\\tValidation Loss: 2.183', '\\tAccuracy: 70.25%')\n",
      "('Epoch: 2/50', '\\tTraining Loss: 1.590', '\\tValidation Loss: 1.512', '\\tAccuracy: 77.44%')\n",
      "('Epoch: 3/50', '\\tTraining Loss: 1.136', '\\tValidation Loss: 1.157', '\\tAccuracy: 82.00%')\n",
      "('Epoch: 4/50', '\\tTraining Loss: 0.376', '\\tValidation Loss: 0.957', '\\tAccuracy: 84.00%')\n",
      "('Epoch: 5/50', '\\tTraining Loss: 0.124', '\\tValidation Loss: 0.982', '\\tAccuracy: 83.05%')\n",
      "('Epoch: 6/50', '\\tTraining Loss: 0.702', '\\tValidation Loss: 0.814', '\\tAccuracy: 85.06%')\n",
      "('Epoch: 7/50', '\\tTraining Loss: 0.877', '\\tValidation Loss: 0.728', '\\tAccuracy: 86.13%')\n",
      "('Epoch: 8/50', '\\tTraining Loss: 0.734', '\\tValidation Loss: 0.690', '\\tAccuracy: 86.72%')\n",
      "('Epoch: 9/50', '\\tTraining Loss: 0.830', '\\tValidation Loss: 0.637', '\\tAccuracy: 86.87%')\n",
      "('Epoch: 10/50', '\\tTraining Loss: 0.756', '\\tValidation Loss: 0.634', '\\tAccuracy: 86.91%')\n",
      "('Epoch: 11/50', '\\tTraining Loss: 0.433', '\\tValidation Loss: 0.534', '\\tAccuracy: 88.31%')\n",
      "('Epoch: 12/50', '\\tTraining Loss: 0.351', '\\tValidation Loss: 0.503', '\\tAccuracy: 88.23%')\n",
      "('Epoch: 13/50', '\\tTraining Loss: 0.481', '\\tValidation Loss: 0.512', '\\tAccuracy: 88.21%')\n",
      "('Epoch: 14/50', '\\tTraining Loss: 0.261', '\\tValidation Loss: 0.504', '\\tAccuracy: 88.54%')\n",
      "('Epoch: 15/50', '\\tTraining Loss: 0.673', '\\tValidation Loss: 0.477', '\\tAccuracy: 88.67%')\n",
      "('Epoch: 16/50', '\\tTraining Loss: 0.453', '\\tValidation Loss: 0.414', '\\tAccuracy: 89.15%')\n",
      "('Epoch: 17/50', '\\tTraining Loss: 0.658', '\\tValidation Loss: 0.442', '\\tAccuracy: 88.54%')\n",
      "('Epoch: 18/50', '\\tTraining Loss: 0.503', '\\tValidation Loss: 0.418', '\\tAccuracy: 89.31%')\n",
      "('Epoch: 19/50', '\\tTraining Loss: 0.401', '\\tValidation Loss: 0.407', '\\tAccuracy: 89.02%')\n",
      "('Epoch: 20/50', '\\tTraining Loss: 0.416', '\\tValidation Loss: 0.403', '\\tAccuracy: 89.41%')\n",
      "('Epoch: 21/50', '\\tTraining Loss: 0.584', '\\tValidation Loss: 0.347', '\\tAccuracy: 90.52%')\n",
      "('Epoch: 22/50', '\\tTraining Loss: 0.418', '\\tValidation Loss: 0.342', '\\tAccuracy: 90.67%')\n",
      "('Epoch: 23/50', '\\tTraining Loss: 0.398', '\\tValidation Loss: 0.357', '\\tAccuracy: 89.75%')\n",
      "('Epoch: 24/50', '\\tTraining Loss: 0.170', '\\tValidation Loss: 0.350', '\\tAccuracy: 90.23%')\n",
      "('Epoch: 25/50', '\\tTraining Loss: 0.165', '\\tValidation Loss: 0.339', '\\tAccuracy: 90.45%')\n",
      "('Epoch: 26/50', '\\tTraining Loss: 0.136', '\\tValidation Loss: 0.340', '\\tAccuracy: 90.35%')\n",
      "('Epoch: 27/50', '\\tTraining Loss: 0.213', '\\tValidation Loss: 0.344', '\\tAccuracy: 90.37%')\n",
      "('Epoch: 28/50', '\\tTraining Loss: 0.246', '\\tValidation Loss: 0.318', '\\tAccuracy: 90.73%')\n",
      "('Epoch: 29/50', '\\tTraining Loss: 0.222', '\\tValidation Loss: 0.295', '\\tAccuracy: 91.24%')\n",
      "('Epoch: 30/50', '\\tTraining Loss: 0.291', '\\tValidation Loss: 0.281', '\\tAccuracy: 91.92%')\n",
      "('Epoch: 31/50', '\\tTraining Loss: 0.567', '\\tValidation Loss: 0.280', '\\tAccuracy: 92.02%')\n",
      "('Epoch: 32/50', '\\tTraining Loss: 0.129', '\\tValidation Loss: 0.281', '\\tAccuracy: 91.73%')\n",
      "('Epoch: 33/50', '\\tTraining Loss: 0.337', '\\tValidation Loss: 0.275', '\\tAccuracy: 92.06%')\n",
      "('Epoch: 34/50', '\\tTraining Loss: 0.116', '\\tValidation Loss: 0.267', '\\tAccuracy: 92.13%')\n",
      "('Epoch: 35/50', '\\tTraining Loss: 0.243', '\\tValidation Loss: 0.279', '\\tAccuracy: 91.51%')\n",
      "('Epoch: 36/50', '\\tTraining Loss: 0.230', '\\tValidation Loss: 0.271', '\\tAccuracy: 91.88%')\n",
      "('Epoch: 37/50', '\\tTraining Loss: 0.482', '\\tValidation Loss: 0.273', '\\tAccuracy: 91.76%')\n",
      "('Epoch: 38/50', '\\tTraining Loss: 0.061', '\\tValidation Loss: 0.286', '\\tAccuracy: 91.63%')\n",
      "('Epoch: 39/50', '\\tTraining Loss: 0.210', '\\tValidation Loss: 0.244', '\\tAccuracy: 92.52%')\n",
      "('Epoch: 40/50', '\\tTraining Loss: 0.325', '\\tValidation Loss: 0.253', '\\tAccuracy: 92.27%')\n",
      "('Epoch: 41/50', '\\tTraining Loss: 0.247', '\\tValidation Loss: 0.303', '\\tAccuracy: 90.89%')\n",
      "('Epoch: 42/50', '\\tTraining Loss: 0.459', '\\tValidation Loss: 0.286', '\\tAccuracy: 91.50%')\n",
      "('Epoch: 43/50', '\\tTraining Loss: 0.363', '\\tValidation Loss: 0.260', '\\tAccuracy: 91.83%')\n",
      "('Epoch: 44/50', '\\tTraining Loss: 0.301', '\\tValidation Loss: 0.308', '\\tAccuracy: 90.86%')\n",
      "('Epoch: 45/50', '\\tTraining Loss: 0.284', '\\tValidation Loss: 0.256', '\\tAccuracy: 92.10%')\n",
      "('Epoch: 46/50', '\\tTraining Loss: 0.333', '\\tValidation Loss: 0.272', '\\tAccuracy: 92.11%')\n",
      "('Epoch: 47/50', '\\tTraining Loss: 0.362', '\\tValidation Loss: 0.269', '\\tAccuracy: 91.91%')\n",
      "('Epoch: 48/50', '\\tTraining Loss: 0.281', '\\tValidation Loss: 0.255', '\\tAccuracy: 92.33%')\n",
      "('Epoch: 49/50', '\\tTraining Loss: 0.274', '\\tValidation Loss: 0.237', '\\tAccuracy: 92.87%')\n",
      "('Epoch: 50/50', '\\tTraining Loss: 0.160', '\\tValidation Loss: 0.255', '\\tAccuracy: 92.27%')\n"
     ]
    }
   ],
   "source": [
    "save_dir = './save'\n",
    "with tf.Session(graph=graph) as sess:\n",
    "    sess.run(tf.global_variables_initializer())\n",
    "    \n",
    "    for epoch in range(numberOfEpoch):\n",
    "        # training data & validation data\n",
    "        train_x, val_x, train_y, val_y = train_test_split(trainData, one_hot_trainLabel,\\\n",
    "                                                      test_size = 0.3)   \n",
    "        # training loss\n",
    "        for i in range(0, len(train_x), batchSize):\n",
    "            trainLoss, _, _ = sess.run([cost, probability, optimizer], feed_dict = {\n",
    "                inputT: train_x[i: i+batchSize],\n",
    "                labelT: train_y[i: i+batchSize],\n",
    "                keep_prob: keep_prob_rate   \n",
    "            })\n",
    "            \n",
    "        # validation loss\n",
    "        valAcc, valLoss = sess.run([accuracy, cost], feed_dict ={\n",
    "            inputT: val_x,\n",
    "            labelT: val_y,\n",
    "            keep_prob: 1.0\n",
    "        })\n",
    "        \n",
    "        \n",
    "        # print out\n",
    "        printResult(epoch, numberOfEpoch, trainLoss, valLoss, valAcc)\n",
    "    # save\n",
    "    saver = tf.train.Saver()\n",
    "    saver.save(sess, save_dir)"
   ]
  }
 ],
 "metadata": {
  "kernelspec": {
   "display_name": "Python 2",
   "language": "python",
   "name": "python2"
  },
  "language_info": {
   "codemirror_mode": {
    "name": "ipython",
    "version": 2
   },
   "file_extension": ".py",
   "mimetype": "text/x-python",
   "name": "python",
   "nbconvert_exporter": "python",
   "pygments_lexer": "ipython2",
   "version": "2.7.13"
  }
 },
 "nbformat": 4,
 "nbformat_minor": 2
}
